{
  "nbformat": 4,
  "nbformat_minor": 0,
  "metadata": {
    "colab": {
      "name": "TransferLearning.ipynb",
      "provenance": [],
      "collapsed_sections": []
    },
    "kernelspec": {
      "name": "python3",
      "display_name": "Python 3"
    },
    "language_info": {
      "name": "python"
    }
  },
  "cells": [
    {
      "cell_type": "code",
      "metadata": {
        "id": "ViEyBs9LzIIw"
      },
      "source": [
        "import numpy as np\n",
        "import pandas as pd\n",
        "\n",
        "from tensorflow.keras.applications.xception import Xception\n",
        "from tensorflow.keras.preprocessing import image\n",
        "from tensorflow.keras.applications.vgg16 import preprocess_input\n",
        "from keras.applications.xception import decode_predictions"
      ],
      "execution_count": null,
      "outputs": []
    },
    {
      "cell_type": "code",
      "metadata": {
        "id": "hTUOhm_UzYVt"
      },
      "source": [
        "model = Xception(weights=\"imagenet\")"
      ],
      "execution_count": null,
      "outputs": []
    },
    {
      "cell_type": "code",
      "metadata": {
        "colab": {
          "base_uri": "https://localhost:8080/"
        },
        "id": "zyyrlPTlzdku",
        "outputId": "7d2d8450-4b54-4593-8625-601990e2ddfc"
      },
      "source": [
        "img_path = 'cup.jpg'\n",
        "img = image.load_img(img_path, target_size=(299, 299))\n",
        "x = image.img_to_array(img)\n",
        "x = np.expand_dims(x, axis=0)\n",
        "x = preprocess_input(x)\n",
        "x = x/255\n",
        "\n",
        "pred = model.predict(x)\n",
        "print('Predicted:', decode_predictions(pred, top=10))"
      ],
      "execution_count": null,
      "outputs": [
        {
          "output_type": "stream",
          "text": [
            "Predicted: [[('n07930864', 'cup', 0.90474397), ('n07920052', 'espresso', 0.021466693), ('n04263257', 'soup_bowl', 0.012583606), ('n03063599', 'coffee_mug', 0.0072938357), ('n04476259', 'tray', 0.0025625366), ('n03443371', 'goblet', 0.0013478003), ('n03950228', 'pitcher', 0.0010095568), ('n04398044', 'teapot', 0.0009883378), ('n02948072', 'candle', 0.0008891784), ('n03063689', 'coffeepot', 0.00088579545)]]\n"
          ],
          "name": "stdout"
        }
      ]
    },
    {
      "cell_type": "code",
      "metadata": {
        "colab": {
          "base_uri": "https://localhost:8080/"
        },
        "id": "bW7XTt_G8tSO",
        "outputId": "0286b39a-da59-45ad-b1a3-9a5148fed73e"
      },
      "source": [
        "x/255"
      ],
      "execution_count": null,
      "outputs": [
        {
          "output_type": "execute_result",
          "data": {
            "text/plain": [
              "array([[[[-0.2115255 , -0.25795686, -0.32031372],\n",
              "         [-0.21544707, -0.26187843, -0.3242353 ],\n",
              "         [-0.23113334, -0.2775647 , -0.33992156],\n",
              "         ...,\n",
              "         [ 0.14141567,  0.11459216,  0.04439216],\n",
              "         [ 0.16886665,  0.1342    ,  0.064     ],\n",
              "         [ 0.17278822,  0.13812158,  0.06792156]],\n",
              "\n",
              "        [[-0.21936864, -0.2658    , -0.32815686],\n",
              "         [-0.2232902 , -0.26972157, -0.33207843],\n",
              "         [-0.22721177, -0.27364314, -0.336     ],\n",
              "         ...,\n",
              "         [ 0.1492588 ,  0.12243529,  0.05223529],\n",
              "         [ 0.16102351,  0.12635687,  0.05615686],\n",
              "         [ 0.16494508,  0.13027844,  0.06007843]],\n",
              "\n",
              "        [[-0.21936864, -0.2658    , -0.32815686],\n",
              "         [-0.2232902 , -0.26972157, -0.33207843],\n",
              "         [-0.23113334, -0.2775647 , -0.33992156],\n",
              "         ...,\n",
              "         [ 0.14141567,  0.11459216,  0.04439216],\n",
              "         [ 0.16102351,  0.12635687,  0.05615686],\n",
              "         [ 0.16494508,  0.13027844,  0.06007843]],\n",
              "\n",
              "        ...,\n",
              "\n",
              "        [[-0.02721178, -0.03834902, -0.02619608],\n",
              "         [ 0.09827842,  0.08714118,  0.09929412],\n",
              "         [ 0.05514117,  0.04400392,  0.05615686],\n",
              "         ...,\n",
              "         [-0.12917256,  0.00086667,  0.06792156],\n",
              "         [-0.17623138, -0.04619215,  0.02086274],\n",
              "         [-0.05466276,  0.07537647,  0.14243138]],\n",
              "\n",
              "        [[ 0.0629843 ,  0.05184706,  0.064     ],\n",
              "         [ 0.14533724,  0.1342    ,  0.14635295],\n",
              "         [ 0.09435685,  0.08321961,  0.09537255],\n",
              "         ...,\n",
              "         [-0.10564315,  0.02439608,  0.09145098],\n",
              "         [-0.15270197, -0.02266274,  0.04439216],\n",
              "         [-0.13309413, -0.0030549 ,  0.064     ]],\n",
              "\n",
              "        [[ 0.02376861,  0.01263138,  0.02478431],\n",
              "         [ 0.03161175,  0.02047451,  0.03262745],\n",
              "         [-0.0115255 , -0.02266274, -0.0105098 ],\n",
              "         ...,\n",
              "         [ 0.0629843 ,  0.19302353,  0.26007843],\n",
              "         [ 0.00416077,  0.1342    ,  0.2012549 ],\n",
              "         [-0.05858433,  0.0714549 ,  0.13850981]]]], dtype=float32)"
            ]
          },
          "metadata": {
            "tags": []
          },
          "execution_count": 22
        }
      ]
    }
  ]
}